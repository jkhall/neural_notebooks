{
  "nbformat": 4,
  "nbformat_minor": 0,
  "metadata": {
    "colab": {
      "name": "Char_Seq2Seq.ipynb",
      "version": "0.3.2",
      "provenance": [],
      "collapsed_sections": []
    },
    "kernelspec": {
      "name": "python3",
      "display_name": "Python 3"
    },
    "accelerator": "GPU"
  },
  "cells": [
    {
      "metadata": {
        "id": "mds96Hj9NhL7",
        "colab_type": "text"
      },
      "cell_type": "markdown",
      "source": [
        "# Character Level Seq2Seq Translation\n",
        "Uses a really simply recurrent architecture to translate from English to French. Unfortunately performance isn't great, thus far. I would like to explore CLR and Beam Search going forward.\n",
        "\n",
        "Adapted from https://blog.keras.io/a-ten-minute-introduction-to-sequence-to-sequence-learning-in-keras.html"
      ]
    },
    {
      "metadata": {
        "id": "V3-n1UfXj5vJ",
        "colab_type": "code",
        "outputId": "f41ed762-5511-45e7-9aea-c49b7fc5288d",
        "colab": {
          "base_uri": "https://localhost:8080/",
          "height": 141
        }
      },
      "cell_type": "code",
      "source": [
        "!pip install torch"
      ],
      "execution_count": 0,
      "outputs": [
        {
          "output_type": "stream",
          "text": [
            "Collecting torch\n",
            "\u001b[?25l  Downloading https://files.pythonhosted.org/packages/7e/60/66415660aa46b23b5e1b72bc762e816736ce8d7260213e22365af51e8f9c/torch-1.0.0-cp36-cp36m-manylinux1_x86_64.whl (591.8MB)\n",
            "\u001b[K    100% |████████████████████████████████| 591.8MB 29kB/s \n",
            "tcmalloc: large alloc 1073750016 bytes == 0x6118e000 @  0x7f6c47c702a4 0x591a07 0x5b5d56 0x502e9a 0x506859 0x502209 0x502f3d 0x506859 0x504c28 0x502540 0x502f3d 0x506859 0x504c28 0x502540 0x502f3d 0x506859 0x504c28 0x502540 0x502f3d 0x507641 0x502209 0x502f3d 0x506859 0x504c28 0x502540 0x502f3d 0x507641 0x504c28 0x502540 0x502f3d 0x507641\n",
            "\u001b[?25hInstalling collected packages: torch\n",
            "Successfully installed torch-1.0.0\n"
          ],
          "name": "stdout"
        }
      ]
    },
    {
      "metadata": {
        "id": "BCOFMV0VlRF2",
        "colab_type": "code",
        "outputId": "7c2a5b2e-6188-4bf1-fa86-2de567f85ca2",
        "colab": {
          "base_uri": "https://localhost:8080/",
          "height": 124
        }
      },
      "cell_type": "code",
      "source": [
        "from google.colab import drive\n",
        "drive.mount('/gdrive')"
      ],
      "execution_count": 0,
      "outputs": [
        {
          "output_type": "stream",
          "text": [
            "Go to this URL in a browser: https://accounts.google.com/o/oauth2/auth?client_id=947318989803-6bn6qk8qdgf4n4g3pfee6491hc0brc4i.apps.googleusercontent.com&redirect_uri=urn%3Aietf%3Awg%3Aoauth%3A2.0%3Aoob&scope=email%20https%3A%2F%2Fwww.googleapis.com%2Fauth%2Fdocs.test%20https%3A%2F%2Fwww.googleapis.com%2Fauth%2Fdrive%20https%3A%2F%2Fwww.googleapis.com%2Fauth%2Fdrive.photos.readonly%20https%3A%2F%2Fwww.googleapis.com%2Fauth%2Fpeopleapi.readonly&response_type=code\n",
            "\n",
            "Enter your authorization code:\n",
            "··········\n",
            "Mounted at /gdrive\n"
          ],
          "name": "stdout"
        }
      ]
    },
    {
      "metadata": {
        "id": "srUZffDvlhy6",
        "colab_type": "code",
        "outputId": "24bdb55f-d416-49a5-c69b-fc3527599bce",
        "colab": {
          "base_uri": "https://localhost:8080/",
          "height": 69
        }
      },
      "cell_type": "code",
      "source": [
        "!unzip /gdrive/My\\ Drive/data/fra-eng.zip -d /gdrive/My\\ Drive/data/"
      ],
      "execution_count": 0,
      "outputs": [
        {
          "output_type": "stream",
          "text": [
            "Archive:  /gdrive/My Drive/data/fra-eng.zip\n",
            "  inflating: /gdrive/My Drive/data/_about.txt  \n",
            "  inflating: /gdrive/My Drive/data/fra.txt  \n"
          ],
          "name": "stdout"
        }
      ]
    },
    {
      "metadata": {
        "id": "WhvwzxXqmf0G",
        "colab_type": "code",
        "outputId": "7d0a29d8-30c4-4817-bb2a-f8c680c3cfff",
        "colab": {
          "base_uri": "https://localhost:8080/",
          "height": 69
        }
      },
      "cell_type": "code",
      "source": [
        "!ls /gdrive/My\\ Drive/data/"
      ],
      "execution_count": 0,
      "outputs": [
        {
          "output_type": "stream",
          "text": [
            " _about.txt\t\t\t fra-eng.zip\t     tarantino.csv\n",
            "'aesw2016(v1.2)_train.xml'\t fra.txt\n",
            "'aesw2016(v1.2)_train.xml.bz2'\t glove.6B.300d.txt\n"
          ],
          "name": "stdout"
        }
      ]
    },
    {
      "metadata": {
        "id": "bCMWoDiumvF7",
        "colab_type": "code",
        "outputId": "b59eac32-2535-44c7-b1a7-1515948fd21b",
        "colab": {
          "base_uri": "https://localhost:8080/",
          "height": 52
        }
      },
      "cell_type": "code",
      "source": [
        "import torch\n",
        "\n",
        "data_path = \"/gdrive/My Drive/data/fra.txt\"\n",
        "num_samples = 10000\n",
        "\n",
        "\n",
        "inp_chars = set()\n",
        "tar_chars = set()\n",
        "inp_txts = []\n",
        "tar_txts = []\n",
        "\n",
        "bos = '__bos__'\n",
        "eos = '__eos__'\n",
        "\n",
        "with open(data_path, encoding='utf-8') as f:\n",
        "  lines = f.read().split('\\n')\n",
        "  \n",
        "for line in lines[:min(num_samples, len(lines) - 1)]:\n",
        "  input_text, target_text = line.split('\\t')\n",
        "  target_text = '\\t' + target_text + '\\n'\n",
        "  \n",
        "  inp_txts.append(input_text)\n",
        "  tar_txts.append(target_text)\n",
        "  \n",
        "  for c in input_text:\n",
        "    if c not in inp_chars:\n",
        "      inp_chars.add(c)\n",
        "      \n",
        "  for c in target_text:\n",
        "    if c not in tar_chars:\n",
        "      tar_chars.add(c)\n",
        "      \n",
        "def test_dicts(c2i, i2c):\n",
        "  for i in range(len(c2i.items())):\n",
        "    ith_ch = i2c[i]\n",
        "    ch_i = c2i[ith_ch]\n",
        "    \n",
        "    if ch_i != i:\n",
        "      return False\n",
        "  return True\n",
        "      \n",
        "idx2ch_eng = sorted(list(inp_chars))\n",
        "idx2ch_fra = sorted(list(tar_chars))\n",
        "ch2idx_eng = dict([(ch, i) for i, ch in enumerate(idx2ch_eng)])\n",
        "ch2idx_fra = dict([(ch, i) for i, ch in enumerate(idx2ch_fra)])\n",
        "\n",
        "print(test_dicts(ch2idx_fra, idx2ch_fra))\n",
        "print(test_dicts(ch2idx_eng, idx2ch_eng))\n",
        "\n",
        "num_eng_chars = len(inp_chars)\n",
        "num_fra_chars = len(tar_chars)\n",
        "      \n",
        "max_eng_seq_len = max([len(seq) for seq in inp_txts])\n",
        "max_fra_seq_len = max([len(seq) for seq in tar_txts])\n",
        "\n",
        "eng_seqs = torch.zeros((len(inp_txts), max_eng_seq_len, len(inp_chars)))\n",
        "fra_seqs = torch.zeros((len(tar_txts), max_fra_seq_len, len(tar_chars)))\n",
        "fra_tar_seqs = torch.zeros((len(tar_txts), max_fra_seq_len, len(tar_chars)))\n",
        "\n",
        "if torch.cuda.is_available(): \n",
        "  eng_seqs = torch.zeros((len(inp_txts), max_eng_seq_len, len(inp_chars))).cuda()\n",
        "  fra_seqs = torch.zeros((len(tar_txts), max_fra_seq_len, len(tar_chars))).cuda()\n",
        "  fra_tar_seqs = torch.zeros((len(tar_txts), max_fra_seq_len, len(tar_chars))).cuda()\n",
        "      \n",
        "# fill encoder and decoder vecs\n",
        "for i, (inp_seq, tar_seq) in enumerate(zip(inp_txts, tar_txts)):\n",
        "  for t, ch in enumerate(inp_seq):\n",
        "    eng_seqs[i, t, ch2idx_eng[ch]] = 1\n",
        "  for t, ch in enumerate(tar_seq):\n",
        "    fra_seqs[i, t, ch2idx_fra[ch]] = 1\n",
        "                       \n",
        "    if t > 0:\n",
        "      fra_tar_seqs[i, t - 1, ch2idx_fra[ch]] = 1 # we will be ahead by one timestep\n",
        "                       \n",
        "                       \n",
        "                       \n",
        "  \n",
        "                       "
      ],
      "execution_count": 0,
      "outputs": [
        {
          "output_type": "stream",
          "text": [
            "True\n",
            "True\n"
          ],
          "name": "stdout"
        }
      ]
    },
    {
      "metadata": {
        "id": "ElOYsrSdMrIY",
        "colab_type": "code",
        "outputId": "3c6e0599-e511-4eb0-e4ea-b95c2ec1913c",
        "colab": {
          "base_uri": "https://localhost:8080/",
          "height": 34
        }
      },
      "cell_type": "code",
      "source": [
        "max_fra_seq_len"
      ],
      "execution_count": 0,
      "outputs": [
        {
          "output_type": "execute_result",
          "data": {
            "text/plain": [
              "59"
            ]
          },
          "metadata": {
            "tags": []
          },
          "execution_count": 17
        }
      ]
    },
    {
      "metadata": {
        "id": "7OWnVvMqDhp9",
        "colab_type": "code",
        "colab": {}
      },
      "cell_type": "code",
      "source": [
        "import torch.nn as nn\n",
        "\n",
        "hidden_size = 256\n",
        "\n",
        "\n",
        "class enc(nn.Module):\n",
        "  def __init__(self):\n",
        "    super().__init__()\n",
        "    self.lstm = nn.LSTM(num_eng_chars, hidden_size, batch_first=True)\n",
        "    \n",
        "  def forward(self, seq):\n",
        "    return self.lstm(seq)\n",
        "  \n",
        "class dec(nn.Module):\n",
        "  def __init__(self):\n",
        "    super().__init__()\n",
        "    self.lstm = nn.LSTM(num_fra_chars, hidden_size, batch_first=True)\n",
        "    self.w1 = nn.Linear(hidden_size, num_fra_chars)\n",
        "    self.d = nn.Softmax(dim=2)\n",
        "    \n",
        "    \n",
        "  def forward(self, inp, st):\n",
        "    out, (hs, cs)= self.lstm(inp, (st[0], st[1]))\n",
        "    return self.d(self.w1(out)), (hs, cs)\n",
        "    "
      ],
      "execution_count": 0,
      "outputs": []
    },
    {
      "metadata": {
        "id": "U6w-XF6GIyr0",
        "colab_type": "code",
        "outputId": "8fb9c520-cc0b-4e07-9120-afa69c7a49c1",
        "colab": {
          "base_uri": "https://localhost:8080/",
          "height": 364
        }
      },
      "cell_type": "code",
      "source": [
        "torch.set_printoptions(precision=5)\n",
        "\n",
        "e = enc().cuda()\n",
        "d = dec().cuda()\n",
        "\n",
        "\n",
        "bs = 64\n",
        "vbs = 5\n",
        "lr = 0.005\n",
        "\n",
        "min_lr = 0.000005\n",
        "start_lr = 0.0001\n",
        "# max_lr = 0.009\n",
        "max_lr = 0.0095\n",
        "\n",
        "leeway = 10 # for the final decreasing portion of the one cycle learning rate\n",
        "\n",
        "loss_func = nn.CrossEntropyLoss()\n",
        "\n",
        "losses = []\n",
        "val_losses = []\n",
        "optimizer = torch.optim.RMSprop([*e.parameters(), *d.parameters()], lr=lr)\n",
        "\n",
        "# _, (hs, cs) = e(eng_seqs[0].unsqueeze(0))\n",
        "# out = d(fra_seqs[0].unsqueeze(0), (hs, cs))\n",
        "# idx2ch_fra[torch.argmax(out)]\n",
        "\n",
        "\n",
        "# training loop\n",
        "def train(one_cycle=False, **kwargs):\n",
        "  \n",
        "  loss = 0\n",
        "  val_loss = 0\n",
        "  epoch_loss = 0\n",
        "  epoch_val_loss = 0\n",
        "  lrs = []\n",
        "  \n",
        "  # split data into a validation set and shuffle\n",
        "  indices = torch.randperm(num_samples)\n",
        "  v_indices = torch.randperm(2000)\n",
        "  \n",
        "  t_enc_seqs = eng_seqs[indices][:num_samples - 2000]\n",
        "  t_dec_seqs = fra_seqs[indices][:num_samples - 2000]\n",
        "  t_tar_seqs = fra_tar_seqs[indices][:num_samples - 2000]\n",
        "  v_enc_seqs = eng_seqs[indices][-2000:]\n",
        "  v_dec_seqs = fra_seqs[indices][-2000:]\n",
        "  v_tar_seqs = fra_tar_seqs[indices][-2000:]\n",
        "  \n",
        "  num_test_samples = t_enc_seqs.shape[0]\n",
        "  inc_size = num_test_samples // bs\n",
        "  \n",
        "  if one_cycle:\n",
        "    optimizer.param_groups[0]['lr'] = start_lr\n",
        "  \n",
        "  for i in range(num_test_samples // bs):\n",
        "    \n",
        "    t_enc_inp = t_enc_seqs[i*bs:i*bs + bs]\n",
        "    t_dec_inp = t_dec_seqs[i*bs:i*bs + bs]\n",
        "    t_targets = t_tar_seqs[i*bs:i*bs + bs]\n",
        "\n",
        "    _, (hs, cs) = e(t_enc_inp)\n",
        "\n",
        "    out, _ = d(t_dec_inp, (hs, cs))\n",
        "   \n",
        "    \n",
        "    for j in range(bs):\n",
        "      loss += loss_func(out[j], torch.argmax(t_targets[j], dim=1))\n",
        "    \n",
        "    \n",
        "    loss.backward()\n",
        "    optimizer.step()\n",
        "    optimizer.zero_grad()\n",
        "    \n",
        "    if one_cycle:\n",
        "#       print(optimizer.param_groups[0]['lr'])\n",
        "      if i * bs <= ((num_test_samples - leeway) / 2):\n",
        "        optimizer.param_groups[0]['lr'] += (max_lr - start_lr) / (inc_size / 2)\n",
        "      elif i * bs <= 2 * ((num_test_samples - leeway) / 2):\n",
        "        optimizer.param_groups[0]['lr'] -= (max_lr - start_lr) / (inc_size / 2)\n",
        "      else:\n",
        "        # decrease the learning rate a little more\n",
        "        optimizer.param_groups[0]['lr'] -= (max_lr - min_lr) / (inc_size / 2)\n",
        "      \n",
        "#       lrs.append(optimizer.param_groups[0]['lr'])\n",
        "    \n",
        "    epoch_loss += loss.item()\n",
        "    loss = 0 # reset loss for the batch\n",
        "    \n",
        "    # validation\n",
        "    for j in range(vbs):\n",
        "      ind = i * vbs\n",
        "      _, (hs, cs) = e(v_enc_seqs[ind + j].unsqueeze(0))\n",
        "      out, _ = d(v_dec_seqs[ind + j].unsqueeze(0), (hs, cs))\n",
        "      val_loss += loss_func(out.squeeze(0), torch.argmax(v_tar_seqs[ind + j], dim=1))\n",
        "      \n",
        "#       val_losses.append(val_loss)\n",
        "    epoch_val_loss += val_loss.item()\n",
        "    val_loss = 0\n",
        "    \n",
        "  if kwargs['print_l']:\n",
        "    print(\"Loss: {}, Val Loss: {}\".format(epoch_loss / bs, epoch_val_loss / vbs))\n",
        "    \n",
        "  return (losses, val_losses), lrs\n",
        "\n",
        "epochs = 100\n",
        "all_losses = []\n",
        "all_v_losses = []\n",
        "l_rates = []\n",
        "for ep in range(epochs):\n",
        "  (al, vl), l_rates = train(one_cycle=True, print_l=(ep % 5 == 0))\n",
        "  all_losses += al\n",
        "  all_v_losses += vl\n",
        "\n"
      ],
      "execution_count": 0,
      "outputs": [
        {
          "output_type": "stream",
          "text": [
            "Loss: 492.71550250053406, Val Loss: 491.77537574768064\n",
            "Loss: 482.1106472015381, Val Loss: 482.2690460205078\n",
            "Loss: 483.5194625854492, Val Loss: 483.82642288208007\n",
            "Loss: 479.45827054977417, Val Loss: 480.24406509399415\n",
            "Loss: 473.1347153186798, Val Loss: 473.28938331604\n",
            "Loss: 472.8562033176422, Val Loss: 472.8401912689209\n",
            "Loss: 465.0144305229187, Val Loss: 464.76782646179197\n",
            "Loss: 462.45605874061584, Val Loss: 462.3699241638184\n",
            "Loss: 461.1897044181824, Val Loss: 460.96001014709475\n",
            "Loss: 460.1198904514313, Val Loss: 460.2795684814453\n",
            "Loss: 459.4634745121002, Val Loss: 459.51838035583495\n",
            "Loss: 459.06304597854614, Val Loss: 458.8125\n",
            "Loss: 458.6042881011963, Val Loss: 458.8380187988281\n",
            "Loss: 458.46073508262634, Val Loss: 458.6135307312012\n",
            "Loss: 458.1616654396057, Val Loss: 458.88442153930663\n",
            "Loss: 457.9635956287384, Val Loss: 457.7427299499512\n",
            "Loss: 457.57436442375183, Val Loss: 457.4697040557861\n",
            "Loss: 457.34599018096924, Val Loss: 456.93348541259763\n",
            "Loss: 457.18737506866455, Val Loss: 457.28610572814944\n",
            "Loss: 457.02179884910583, Val Loss: 457.25779418945314\n"
          ],
          "name": "stdout"
        }
      ]
    },
    {
      "metadata": {
        "id": "3QC54-7ILVNL",
        "colab_type": "code",
        "outputId": "a258e74e-c211-47bb-fc40-ef104962a7f2",
        "colab": {
          "base_uri": "https://localhost:8080/",
          "height": 367
        }
      },
      "cell_type": "code",
      "source": [
        "import matplotlib.pyplot as plt\n",
        "import matplotlib.ticker as ticker\n",
        "\n",
        "plt.figure()\n",
        "plt.plot(l_rates)"
      ],
      "execution_count": 0,
      "outputs": [
        {
          "output_type": "execute_result",
          "data": {
            "text/plain": [
              "[<matplotlib.lines.Line2D at 0x7f43548ff160>]"
            ]
          },
          "metadata": {
            "tags": []
          },
          "execution_count": 48
        },
        {
          "output_type": "display_data",
          "data": {
            "image/png": "[encoded data removed]",
            "text/plain": [
              "<matplotlib.figure.Figure at 0x7f4354945e10>"
            ]
          },
          "metadata": {
            "tags": []
          }
        }
      ]
    },
    {
      "metadata": {
        "id": "KhYjAhCfbM-j",
        "colab_type": "code",
        "outputId": "8f92abd9-341c-4c25-9e78-1745369ee6e2",
        "colab": {
          "base_uri": "https://localhost:8080/",
          "height": 364
        }
      },
      "cell_type": "code",
      "source": [
        "import matplotlib.ticker as ticker\n",
        "\n",
        "plt.figure()\n",
        "plt.plot(all_v_losses)"
      ],
      "execution_count": 0,
      "outputs": [
        {
          "output_type": "execute_result",
          "data": {
            "text/plain": [
              "[<matplotlib.lines.Line2D at 0x7f790896c748>]"
            ]
          },
          "metadata": {
            "tags": []
          },
          "execution_count": 12
        },
        {
          "output_type": "display_data",
          "data": {
            "image/png": "[encoded data removed]",
            "text/plain": [
              "<matplotlib.figure.Figure at 0x7f796b8cf3c8>"
            ]
          },
          "metadata": {
            "tags": []
          }
        }
      ]
    },
    {
      "metadata": {
        "id": "mRMBMPjOqxBY",
        "colab_type": "code",
        "outputId": "87afe1e2-4cd3-42a4-9f80-a6832eba63b5",
        "colab": {
          "base_uri": "https://localhost:8080/",
          "height": 52
        }
      },
      "cell_type": "code",
      "source": [
        "# generate translations\n",
        "# maybe try to implement beam search\n",
        "\n",
        "sequence = \"Go away!\"\n",
        "coded_seq = torch.zeros((1, max_eng_seq_len, num_eng_chars)).cuda()\n",
        "si = 10\n",
        "\n",
        "for i, ch in enumerate(sequence):\n",
        "  coded_seq[0, i, ch2idx_fra[ch]] = 1\n",
        "\n",
        "\n",
        "# _, (hs, cs) = e(eng_seqs[si].unsqueeze(0))\n",
        "_, (hs, cs) = e(coded_seq)\n",
        "translation = \"\\t\"\n",
        "targ_seq = torch.zeros((1, 1, num_fra_chars)).cuda()\n",
        "targ_seq[0, 0, ch2idx_fra[translation]] = 1 #this one hot encoding is super cumbersome\n",
        "\n",
        "i = 1\n",
        "while i < max_fra_seq_len:\n",
        "  # i think we need the hidden_states out of the dec lstm\n",
        "  out, (hs, cs) = d(targ_seq, (hs, cs))\n",
        "  idx = torch.argmax(out)\n",
        "  targ_seq = torch.zeros((1, 1, num_fra_chars)).cuda()\n",
        "  targ_seq[0, 0, idx] = 1\n",
        "  ch = idx2ch_fra[idx]\n",
        "  translation += ch\n",
        "  \n",
        "  if ch == '\\n':\n",
        "    break\n",
        "  \n",
        "  i += 1\n",
        "  \n",
        "print(translation)\n",
        "# print('\\t' + inp_txts[si] + '\\n')"
      ],
      "execution_count": 0,
      "outputs": [
        {
          "output_type": "stream",
          "text": [
            "\tCe surais la pais.\n",
            "\n"
          ],
          "name": "stdout"
        }
      ]
    }
  ]
}